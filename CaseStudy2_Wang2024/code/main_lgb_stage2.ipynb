{
 "cells": [
  {
   "cell_type": "code",
   "execution_count": 28,
   "metadata": {},
   "outputs": [],
   "source": [
    "#!/usr/bin/env python\n",
    "# coding: utf-8\n",
    "\n",
    "\n",
    "import pandas as pd\n",
    "import numpy as np\n",
    "import lightgbm as lgb\n",
    "from tqdm import tqdm_notebook as tqdm\n",
    "from sklearn.preprocessing import LabelEncoder\n",
    "from sklearn.utils.multiclass import unique_labels\n",
    "from sklearn.metrics import confusion_matrix\n",
    "import matplotlib.pyplot as plt\n",
    "from sklearn.model_selection import train_test_split\n",
    "from sklearn.model_selection import  StratifiedKFold,KFold\n",
    "from sklearn.metrics import roc_auc_score,f1_score,precision_score, recall_score\n",
    "\n",
    "\n",
    "def plot_confusion_matrix(y_true, y_pred, classes,\n",
    "                          normalize=False,\n",
    "                          title=None,\n",
    "                          cmap=plt.cm.Blues):\n",
    "    \n",
    "    if not title:\n",
    "        if normalize:\n",
    "            title = 'Normalized confusion matrix'\n",
    "        else:\n",
    "            title = 'Confusion matrix, without normalization'\n",
    "\n",
    "    # Compute confusion matrix\n",
    "    cm = confusion_matrix(y_true, y_pred)\n",
    "    # Only use the labels that appear in the data\n",
    "    classes = classes[unique_labels(y_true, y_pred)]\n",
    "    if normalize:\n",
    "        cm = cm.astype('float') / cm.sum(axis=1)[:, np.newaxis]\n",
    "        #print(\"Normalized confusion matrix\")\n",
    "    else:\n",
    "        pass\n",
    "        #print('Confusion matrix, without normalization')\n",
    "\n",
    "    #print(cm)\n",
    "\n",
    "    fig, ax = plt.subplots()\n",
    "    im = ax.imshow(cm, interpolation='nearest', cmap=cmap)\n",
    "    ax.figure.colorbar(im, ax=ax)\n",
    "    ax.set(xticks=np.arange(cm.shape[1]),\n",
    "           yticks=np.arange(cm.shape[0]),\n",
    "           xticklabels=classes, yticklabels=classes,\n",
    "           title=title,\n",
    "           ylabel='True label',\n",
    "           xlabel='Predicted label')\n",
    "\n",
    "    ax.set_ylim(len(classes)-0.5, -0.5)\n",
    "\n",
    "    # Rotate the tick labels and set their alignment.\n",
    "    #plt.setp(ax.get_xticklabels(), rotation=45, ha=\"right\", rotation_mode=\"anchor\")\n",
    "\n",
    "    fmt = '.2f' if normalize else 'd'\n",
    "    thresh = cm.max() / 2.\n",
    "    for i in range(cm.shape[0]):\n",
    "        for j in range(cm.shape[1]):\n",
    "            ax.text(j, i, format(cm[i, j], fmt),\n",
    "                    ha=\"center\", va=\"center\",\n",
    "                    color=\"white\" if cm[i, j] > thresh else \"black\")\n",
    "    fig.tight_layout()\n",
    "    return ax\n",
    "\n",
    "def cal(y,oof_lgb,p=0.5):\n",
    "    print(\"AUC score: {}\".format(roc_auc_score(y, oof_lgb)))\n",
    "    print(\"F1 score: {}\".format(f1_score(y, [1 if i >= p else 0 for i in oof_lgb])))\n",
    "    print(\"Precision score: {}\".format(precision_score(y, [1 if i >= p else 0 for i in oof_lgb])))\n",
    "    print(\"Recall score: {}\".format(recall_score(y, [1 if i >= p else 0 for i in oof_lgb])))"
   ]
  },
  {
   "cell_type": "code",
   "execution_count": 29,
   "metadata": {},
   "outputs": [],
   "source": [
    "def ks_calc_cross(data,pred,y_label):\n",
    "    crossfreq = pd.crosstab(data[pred[0]],data[y_label[0]])\n",
    "    crossdens = crossfreq.cumsum(axis=0) / crossfreq.sum()\n",
    "    crossdens['gap'] = abs(crossdens[0] - crossdens[1])\n",
    "    ks = crossdens[crossdens['gap'] == crossdens['gap'].max()]\n",
    "    return ks,crossdens\n",
    "\n",
    "def ks_calc_auc(data,pred,y_label):\n",
    "    fpr,tpr,thresholds= roc_curve(data[y_label[0]],data[pred[0]])\n",
    "    ks = max(tpr-fpr)\n",
    "    return ks\n",
    "\n",
    "def ks_calc_2samp(data,pred,y_label):\n",
    "    Bad = data.loc[data[y_label[0]]==1,pred[0]]\n",
    "    Good = data.loc[data[y_label[0]]==0, pred[0]]\n",
    "    data1 = Bad.values\n",
    "    data2 = Good.values\n",
    "    n1 = data1.shape[0]\n",
    "    n2 = data2.shape[0]\n",
    "    data1 = np.sort(data1)\n",
    "    data2 = np.sort(data2)\n",
    "    data_all = np.concatenate([data1,data2])\n",
    "    cdf1 = np.searchsorted(data1,data_all,side='right')/(1.0*n1)\n",
    "    cdf2 = (np.searchsorted(data2,data_all,side='right'))/(1.0*n2)\n",
    "    ks = np.max(np.absolute(cdf1-cdf2))\n",
    "    cdf1_df = pd.DataFrame(cdf1)\n",
    "    cdf2_df = pd.DataFrame(cdf2)\n",
    "    cdf_df = pd.concat([cdf1_df,cdf2_df],axis = 1)\n",
    "    cdf_df.columns = ['cdf_Bad','cdf_Good']\n",
    "    cdf_df['gap'] = cdf_df['cdf_Bad']-cdf_df['cdf_Good']\n",
    "    return ks,cdf_df"
   ]
  },
  {
   "cell_type": "code",
   "execution_count": 63,
   "metadata": {
    "scrolled": true
   },
   "outputs": [
    {
     "name": "stdout",
     "output_type": "stream",
     "text": [
      "####################\n",
      "miss rate_training data\n",
      "TI       0.198646\n",
      "Y        0.169900\n",
      "NB       0.331628\n",
      "LA       0.082116\n",
      "CE       0.000000\n",
      "CE*      0.194634\n",
      "PR       0.152527\n",
      "ND       0.008613\n",
      "SM       0.017041\n",
      "EU       0.006956\n",
      "EU*      0.024219\n",
      "GD       0.023888\n",
      "TB       0.081048\n",
      "DY       0.005705\n",
      "HO       0.076374\n",
      "ER       0.022636\n",
      "TM       0.095992\n",
      "YB       0.033862\n",
      "LU       0.046156\n",
      "HF       0.161140\n",
      "TA       0.406088\n",
      "TH       0.118885\n",
      "U        0.113843\n",
      "label    0.000000\n",
      "dtype: float64\n",
      "####################\n",
      "miss rate_application data\n",
      "TI       0.154220\n",
      "Y        0.082300\n",
      "NB       0.216497\n",
      "LA       0.137399\n",
      "CE       0.001141\n",
      "CE*      0.365527\n",
      "PR       0.029777\n",
      "ND       0.010416\n",
      "SM       0.000626\n",
      "EU       0.001951\n",
      "EU*      0.006404\n",
      "GD       0.000221\n",
      "TB       0.040414\n",
      "DY       0.000074\n",
      "HO       0.020575\n",
      "ER       0.000478\n",
      "TM       0.104715\n",
      "YB       0.000000\n",
      "LU       0.000037\n",
      "HF       0.039972\n",
      "TA       0.391292\n",
      "TH       0.010674\n",
      "U        0.004932\n",
      "label    1.000000\n",
      "dtype: float64\n"
     ]
    }
   ],
   "source": [
    "train_data_list = ['training_raw data_1.xlsx','training_raw data_0.xlsx']\n",
    "train_data = pd.DataFrame()\n",
    "for file in train_data_list:\n",
    "    _ = pd.read_excel('../data/{}'.format(file))\n",
    "    if '1' in file:\n",
    "        _['label'] = 1\n",
    "        label2 = _.iloc[:,0].values\n",
    "        _ = _.iloc[:,1:]\n",
    "    else:\n",
    "        _['label'] = 0\n",
    "        _ = _.iloc[:,1:]\n",
    "    _.columns = ['TI', 'Y', 'NB', 'LA', 'CE', 'CE*', 'PR', 'ND', 'SM', 'EU', 'EU*', 'GD', 'TB', 'DY',\n",
    "       'HO', 'ER', 'TM', 'YB', 'LU', 'HF', 'TA', 'TH', 'U', 'label']\n",
    "    train_data = pd.concat([train_data,_], axis=0)\n",
    "train_data = train_data.reset_index(drop=True) \n",
    "\n",
    "valid = pd.read_excel('../data/{}'.format('application data.xlsx'))\n",
    "valid['label']=np.nan\n",
    "\n",
    "print('#'*20)\n",
    "print('miss rate_training data')\n",
    "print(train_data.isnull().sum() / (valid.shape[0]))\n",
    "print('#'*20)\n",
    "print('miss rate_application data')\n",
    "print(valid.isnull().sum() / (valid.shape[0]))"
   ]
  },
  {
   "cell_type": "code",
   "execution_count": 32,
   "metadata": {},
   "outputs": [],
   "source": [
    "df_label = pd.read_excel('../res/training data_label.xlsx')"
   ]
  },
  {
   "cell_type": "code",
   "execution_count": 72,
   "metadata": {},
   "outputs": [],
   "source": [
    "df_label_valid = pd.read_excel('../res/application data_label.xlsx')"
   ]
  },
  {
   "cell_type": "code",
   "execution_count": null,
   "metadata": {},
   "outputs": [],
   "source": []
  },
  {
   "cell_type": "code",
   "execution_count": 35,
   "metadata": {},
   "outputs": [
    {
     "data": {
      "text/plain": [
       "((20923, 24), (20923, 123))"
      ]
     },
     "execution_count": 35,
     "metadata": {},
     "output_type": "execute_result"
    }
   ],
   "source": [
    "train_data.shape, df_label.shape"
   ]
  },
  {
   "cell_type": "code",
   "execution_count": 37,
   "metadata": {},
   "outputs": [
    {
     "data": {
      "text/plain": [
       "Index(['CE**EU*EU', 'YB/LU', 'NB/LA/CE*', 'TM/YB', 'Y/LA/TB', 'ER/YB', 'TH/U',\n",
       "       'EU**EU**TA', 'ER/TM', 'PR/ND/EU*',\n",
       "       ...\n",
       "       'NB/HF/TA', 'NB/TA', 'TB/DY/HF', 'NB-TA-TA', 'SM/GD/HF', 'EU/EU*/GD',\n",
       "       'CE/TH', 'label', 'prob', 'pred'],\n",
       "      dtype='object', length=123)"
      ]
     },
     "execution_count": 37,
     "metadata": {},
     "output_type": "execute_result"
    }
   ],
   "source": [
    "df_label.columns"
   ]
  },
  {
   "cell_type": "code",
   "execution_count": null,
   "metadata": {},
   "outputs": [],
   "source": []
  },
  {
   "cell_type": "code",
   "execution_count": 49,
   "metadata": {},
   "outputs": [],
   "source": []
  },
  {
   "cell_type": "code",
   "execution_count": 85,
   "metadata": {},
   "outputs": [],
   "source": [
    "train_data['pred'] = df_label['pred']\n",
    "train_data = train_data[(train_data['label']==1)]\n",
    "train_data['label2'] = label2\n",
    "\n",
    "train_data = train_data[(train_data['label']==1)&(train_data['pred']==1)].reset_index(drop=True)"
   ]
  },
  {
   "cell_type": "code",
   "execution_count": 86,
   "metadata": {},
   "outputs": [
    {
     "data": {
      "text/plain": [
       "3    1563\n",
       "2     263\n",
       "1     151\n",
       "Name: label2, dtype: int64"
      ]
     },
     "execution_count": 86,
     "metadata": {},
     "output_type": "execute_result"
    }
   ],
   "source": [
    "train_data['label2'].value_counts()"
   ]
  },
  {
   "cell_type": "code",
   "execution_count": 87,
   "metadata": {},
   "outputs": [],
   "source": [
    "valid['pred'] = df_label_valid['pred']\n",
    "valid = valid[(valid['pred']==1)]"
   ]
  },
  {
   "cell_type": "code",
   "execution_count": 88,
   "metadata": {},
   "outputs": [
    {
     "data": {
      "text/html": [
       "<div>\n",
       "<style scoped>\n",
       "    .dataframe tbody tr th:only-of-type {\n",
       "        vertical-align: middle;\n",
       "    }\n",
       "\n",
       "    .dataframe tbody tr th {\n",
       "        vertical-align: top;\n",
       "    }\n",
       "\n",
       "    .dataframe thead th {\n",
       "        text-align: right;\n",
       "    }\n",
       "</style>\n",
       "<table border=\"1\" class=\"dataframe\">\n",
       "  <thead>\n",
       "    <tr style=\"text-align: right;\">\n",
       "      <th></th>\n",
       "      <th>TI</th>\n",
       "      <th>Y</th>\n",
       "      <th>NB</th>\n",
       "      <th>LA</th>\n",
       "      <th>CE</th>\n",
       "      <th>CE*</th>\n",
       "      <th>PR</th>\n",
       "      <th>ND</th>\n",
       "      <th>SM</th>\n",
       "      <th>EU</th>\n",
       "      <th>...</th>\n",
       "      <th>TA*TA*U</th>\n",
       "      <th>TA/TA/U</th>\n",
       "      <th>TA+TH+TH</th>\n",
       "      <th>TA-TH-TH</th>\n",
       "      <th>TA*TH*TH</th>\n",
       "      <th>TA/TH/TH</th>\n",
       "      <th>TA+TH+U</th>\n",
       "      <th>TA-TH-U</th>\n",
       "      <th>TA*TH*U</th>\n",
       "      <th>TA/TH/U</th>\n",
       "    </tr>\n",
       "  </thead>\n",
       "  <tbody>\n",
       "    <tr>\n",
       "      <th>23</th>\n",
       "      <td>-99.000</td>\n",
       "      <td>-99.000</td>\n",
       "      <td>-99.000</td>\n",
       "      <td>0.0155</td>\n",
       "      <td>1.720</td>\n",
       "      <td>13.658707</td>\n",
       "      <td>0.0615</td>\n",
       "      <td>0.951</td>\n",
       "      <td>1.560</td>\n",
       "      <td>0.647</td>\n",
       "      <td>...</td>\n",
       "      <td>1.507394e+06</td>\n",
       "      <td>0.006502</td>\n",
       "      <td>112.600</td>\n",
       "      <td>-310.600</td>\n",
       "      <td>-1.108170e+06</td>\n",
       "      <td>-0.008844</td>\n",
       "      <td>160.600</td>\n",
       "      <td>-358.600</td>\n",
       "      <td>-1.610932e+06</td>\n",
       "      <td>-0.006084</td>\n",
       "    </tr>\n",
       "    <tr>\n",
       "      <th>24</th>\n",
       "      <td>-99.000</td>\n",
       "      <td>-99.000</td>\n",
       "      <td>-99.000</td>\n",
       "      <td>0.0670</td>\n",
       "      <td>0.860</td>\n",
       "      <td>3.505490</td>\n",
       "      <td>0.0540</td>\n",
       "      <td>0.670</td>\n",
       "      <td>2.900</td>\n",
       "      <td>1.690</td>\n",
       "      <td>...</td>\n",
       "      <td>1.516215e+07</td>\n",
       "      <td>0.000646</td>\n",
       "      <td>-79.940</td>\n",
       "      <td>-118.060</td>\n",
       "      <td>-8.991269e+03</td>\n",
       "      <td>-1.090057</td>\n",
       "      <td>1457.530</td>\n",
       "      <td>-1655.530</td>\n",
       "      <td>-1.459548e+06</td>\n",
       "      <td>-0.006715</td>\n",
       "    </tr>\n",
       "    <tr>\n",
       "      <th>416</th>\n",
       "      <td>0.001</td>\n",
       "      <td>116.300</td>\n",
       "      <td>0.557</td>\n",
       "      <td>-99.0000</td>\n",
       "      <td>7.240</td>\n",
       "      <td>-99.000000</td>\n",
       "      <td>0.0250</td>\n",
       "      <td>0.270</td>\n",
       "      <td>0.450</td>\n",
       "      <td>0.300</td>\n",
       "      <td>...</td>\n",
       "      <td>1.620105e+06</td>\n",
       "      <td>0.006050</td>\n",
       "      <td>124.600</td>\n",
       "      <td>-322.600</td>\n",
       "      <td>-1.237425e+06</td>\n",
       "      <td>-0.007920</td>\n",
       "      <td>178.100</td>\n",
       "      <td>-376.100</td>\n",
       "      <td>-1.829573e+06</td>\n",
       "      <td>-0.005357</td>\n",
       "    </tr>\n",
       "    <tr>\n",
       "      <th>728</th>\n",
       "      <td>44.795</td>\n",
       "      <td>148.268</td>\n",
       "      <td>7.362</td>\n",
       "      <td>0.0290</td>\n",
       "      <td>3.143</td>\n",
       "      <td>16.523396</td>\n",
       "      <td>0.0750</td>\n",
       "      <td>0.646</td>\n",
       "      <td>0.750</td>\n",
       "      <td>0.302</td>\n",
       "      <td>...</td>\n",
       "      <td>7.651337e+02</td>\n",
       "      <td>0.004434</td>\n",
       "      <td>40.676</td>\n",
       "      <td>-36.992</td>\n",
       "      <td>6.944706e+02</td>\n",
       "      <td>0.004886</td>\n",
       "      <td>246.765</td>\n",
       "      <td>-243.081</td>\n",
       "      <td>8.065473e+03</td>\n",
       "      <td>0.000421</td>\n",
       "    </tr>\n",
       "    <tr>\n",
       "      <th>729</th>\n",
       "      <td>7.234</td>\n",
       "      <td>3314.300</td>\n",
       "      <td>37.593</td>\n",
       "      <td>0.0650</td>\n",
       "      <td>20.243</td>\n",
       "      <td>18.881484</td>\n",
       "      <td>1.0630</td>\n",
       "      <td>12.721</td>\n",
       "      <td>23.589</td>\n",
       "      <td>1.146</td>\n",
       "      <td>...</td>\n",
       "      <td>7.204866e+03</td>\n",
       "      <td>0.003943</td>\n",
       "      <td>506.264</td>\n",
       "      <td>-495.604</td>\n",
       "      <td>3.343707e+05</td>\n",
       "      <td>0.000085</td>\n",
       "      <td>509.410</td>\n",
       "      <td>-498.750</td>\n",
       "      <td>3.385706e+05</td>\n",
       "      <td>0.000084</td>\n",
       "    </tr>\n",
       "    <tr>\n",
       "      <th>...</th>\n",
       "      <td>...</td>\n",
       "      <td>...</td>\n",
       "      <td>...</td>\n",
       "      <td>...</td>\n",
       "      <td>...</td>\n",
       "      <td>...</td>\n",
       "      <td>...</td>\n",
       "      <td>...</td>\n",
       "      <td>...</td>\n",
       "      <td>...</td>\n",
       "      <td>...</td>\n",
       "      <td>...</td>\n",
       "      <td>...</td>\n",
       "      <td>...</td>\n",
       "      <td>...</td>\n",
       "      <td>...</td>\n",
       "      <td>...</td>\n",
       "      <td>...</td>\n",
       "      <td>...</td>\n",
       "      <td>...</td>\n",
       "      <td>...</td>\n",
       "    </tr>\n",
       "    <tr>\n",
       "      <th>27150</th>\n",
       "      <td>41.400</td>\n",
       "      <td>429.000</td>\n",
       "      <td>2.630</td>\n",
       "      <td>0.0130</td>\n",
       "      <td>8.550</td>\n",
       "      <td>52.423551</td>\n",
       "      <td>0.1230</td>\n",
       "      <td>1.260</td>\n",
       "      <td>2.280</td>\n",
       "      <td>0.910</td>\n",
       "      <td>...</td>\n",
       "      <td>2.095040e+02</td>\n",
       "      <td>0.009625</td>\n",
       "      <td>224.820</td>\n",
       "      <td>-221.980</td>\n",
       "      <td>1.771718e+04</td>\n",
       "      <td>0.000114</td>\n",
       "      <td>217.020</td>\n",
       "      <td>-214.180</td>\n",
       "      <td>1.647999e+04</td>\n",
       "      <td>0.000122</td>\n",
       "    </tr>\n",
       "    <tr>\n",
       "      <th>27156</th>\n",
       "      <td>20.500</td>\n",
       "      <td>2030.000</td>\n",
       "      <td>18.160</td>\n",
       "      <td>0.0600</td>\n",
       "      <td>131.500</td>\n",
       "      <td>246.554113</td>\n",
       "      <td>0.2850</td>\n",
       "      <td>5.440</td>\n",
       "      <td>10.110</td>\n",
       "      <td>3.390</td>\n",
       "      <td>...</td>\n",
       "      <td>1.774108e+03</td>\n",
       "      <td>0.014205</td>\n",
       "      <td>240.420</td>\n",
       "      <td>-230.380</td>\n",
       "      <td>6.954352e+04</td>\n",
       "      <td>0.000362</td>\n",
       "      <td>193.120</td>\n",
       "      <td>-183.080</td>\n",
       "      <td>4.159612e+04</td>\n",
       "      <td>0.000606</td>\n",
       "    </tr>\n",
       "    <tr>\n",
       "      <th>27157</th>\n",
       "      <td>86.800</td>\n",
       "      <td>551.000</td>\n",
       "      <td>3.450</td>\n",
       "      <td>0.0750</td>\n",
       "      <td>19.980</td>\n",
       "      <td>25.121492</td>\n",
       "      <td>0.5070</td>\n",
       "      <td>6.140</td>\n",
       "      <td>6.390</td>\n",
       "      <td>2.700</td>\n",
       "      <td>...</td>\n",
       "      <td>3.568738e+02</td>\n",
       "      <td>0.012240</td>\n",
       "      <td>346.090</td>\n",
       "      <td>-341.910</td>\n",
       "      <td>6.183056e+04</td>\n",
       "      <td>0.000071</td>\n",
       "      <td>255.790</td>\n",
       "      <td>-251.610</td>\n",
       "      <td>2.936952e+04</td>\n",
       "      <td>0.000149</td>\n",
       "    </tr>\n",
       "    <tr>\n",
       "      <th>27158</th>\n",
       "      <td>20.000</td>\n",
       "      <td>2119.000</td>\n",
       "      <td>17.930</td>\n",
       "      <td>0.0490</td>\n",
       "      <td>178.300</td>\n",
       "      <td>313.826970</td>\n",
       "      <td>0.3960</td>\n",
       "      <td>6.220</td>\n",
       "      <td>10.350</td>\n",
       "      <td>3.780</td>\n",
       "      <td>...</td>\n",
       "      <td>3.359192e+03</td>\n",
       "      <td>0.007622</td>\n",
       "      <td>619.060</td>\n",
       "      <td>-608.940</td>\n",
       "      <td>4.768999e+05</td>\n",
       "      <td>0.000054</td>\n",
       "      <td>443.260</td>\n",
       "      <td>-433.140</td>\n",
       "      <td>2.038087e+05</td>\n",
       "      <td>0.000126</td>\n",
       "    </tr>\n",
       "    <tr>\n",
       "      <th>27163</th>\n",
       "      <td>48.500</td>\n",
       "      <td>596.000</td>\n",
       "      <td>2.580</td>\n",
       "      <td>0.0230</td>\n",
       "      <td>12.080</td>\n",
       "      <td>44.803379</td>\n",
       "      <td>0.1900</td>\n",
       "      <td>2.370</td>\n",
       "      <td>4.560</td>\n",
       "      <td>1.280</td>\n",
       "      <td>...</td>\n",
       "      <td>6.345806e+02</td>\n",
       "      <td>0.005163</td>\n",
       "      <td>512.010</td>\n",
       "      <td>-508.390</td>\n",
       "      <td>1.177876e+05</td>\n",
       "      <td>0.000028</td>\n",
       "      <td>450.610</td>\n",
       "      <td>-446.990</td>\n",
       "      <td>8.943729e+04</td>\n",
       "      <td>0.000037</td>\n",
       "    </tr>\n",
       "  </tbody>\n",
       "</table>\n",
       "<p>727 rows × 10248 columns</p>\n",
       "</div>"
      ],
      "text/plain": [
       "           TI         Y      NB       LA       CE         CE*      PR      ND  \\\n",
       "23    -99.000   -99.000 -99.000   0.0155    1.720   13.658707  0.0615   0.951   \n",
       "24    -99.000   -99.000 -99.000   0.0670    0.860    3.505490  0.0540   0.670   \n",
       "416     0.001   116.300   0.557 -99.0000    7.240  -99.000000  0.0250   0.270   \n",
       "728    44.795   148.268   7.362   0.0290    3.143   16.523396  0.0750   0.646   \n",
       "729     7.234  3314.300  37.593   0.0650   20.243   18.881484  1.0630  12.721   \n",
       "...       ...       ...     ...      ...      ...         ...     ...     ...   \n",
       "27150  41.400   429.000   2.630   0.0130    8.550   52.423551  0.1230   1.260   \n",
       "27156  20.500  2030.000  18.160   0.0600  131.500  246.554113  0.2850   5.440   \n",
       "27157  86.800   551.000   3.450   0.0750   19.980   25.121492  0.5070   6.140   \n",
       "27158  20.000  2119.000  17.930   0.0490  178.300  313.826970  0.3960   6.220   \n",
       "27163  48.500   596.000   2.580   0.0230   12.080   44.803379  0.1900   2.370   \n",
       "\n",
       "           SM     EU  ...       TA*TA*U   TA/TA/U  TA+TH+TH  TA-TH-TH  \\\n",
       "23      1.560  0.647  ...  1.507394e+06  0.006502   112.600  -310.600   \n",
       "24      2.900  1.690  ...  1.516215e+07  0.000646   -79.940  -118.060   \n",
       "416     0.450  0.300  ...  1.620105e+06  0.006050   124.600  -322.600   \n",
       "728     0.750  0.302  ...  7.651337e+02  0.004434    40.676   -36.992   \n",
       "729    23.589  1.146  ...  7.204866e+03  0.003943   506.264  -495.604   \n",
       "...       ...    ...  ...           ...       ...       ...       ...   \n",
       "27150   2.280  0.910  ...  2.095040e+02  0.009625   224.820  -221.980   \n",
       "27156  10.110  3.390  ...  1.774108e+03  0.014205   240.420  -230.380   \n",
       "27157   6.390  2.700  ...  3.568738e+02  0.012240   346.090  -341.910   \n",
       "27158  10.350  3.780  ...  3.359192e+03  0.007622   619.060  -608.940   \n",
       "27163   4.560  1.280  ...  6.345806e+02  0.005163   512.010  -508.390   \n",
       "\n",
       "           TA*TH*TH  TA/TH/TH   TA+TH+U   TA-TH-U       TA*TH*U   TA/TH/U  \n",
       "23    -1.108170e+06 -0.008844   160.600  -358.600 -1.610932e+06 -0.006084  \n",
       "24    -8.991269e+03 -1.090057  1457.530 -1655.530 -1.459548e+06 -0.006715  \n",
       "416   -1.237425e+06 -0.007920   178.100  -376.100 -1.829573e+06 -0.005357  \n",
       "728    6.944706e+02  0.004886   246.765  -243.081  8.065473e+03  0.000421  \n",
       "729    3.343707e+05  0.000085   509.410  -498.750  3.385706e+05  0.000084  \n",
       "...             ...       ...       ...       ...           ...       ...  \n",
       "27150  1.771718e+04  0.000114   217.020  -214.180  1.647999e+04  0.000122  \n",
       "27156  6.954352e+04  0.000362   193.120  -183.080  4.159612e+04  0.000606  \n",
       "27157  6.183056e+04  0.000071   255.790  -251.610  2.936952e+04  0.000149  \n",
       "27158  4.768999e+05  0.000054   443.260  -433.140  2.038087e+05  0.000126  \n",
       "27163  1.177876e+05  0.000028   450.610  -446.990  8.943729e+04  0.000037  \n",
       "\n",
       "[727 rows x 10248 columns]"
      ]
     },
     "execution_count": 88,
     "metadata": {},
     "output_type": "execute_result"
    }
   ],
   "source": [
    "valid"
   ]
  },
  {
   "cell_type": "code",
   "execution_count": null,
   "metadata": {},
   "outputs": [],
   "source": []
  },
  {
   "cell_type": "code",
   "execution_count": null,
   "metadata": {},
   "outputs": [],
   "source": []
  },
  {
   "cell_type": "code",
   "execution_count": null,
   "metadata": {},
   "outputs": [],
   "source": []
  },
  {
   "cell_type": "code",
   "execution_count": 89,
   "metadata": {},
   "outputs": [
    {
     "name": "stderr",
     "output_type": "stream",
     "text": [
      "D:\\anaconda3\\lib\\site-packages\\pandas\\core\\frame.py:3607: SettingWithCopyWarning: \n",
      "A value is trying to be set on a copy of a slice from a DataFrame.\n",
      "Try using .loc[row_indexer,col_indexer] = value instead\n",
      "\n",
      "See the caveats in the documentation: https://pandas.pydata.org/pandas-docs/stable/user_guide/indexing.html#returning-a-view-versus-a-copy\n",
      "  self._set_item(key, value)\n",
      "D:\\anaconda3\\lib\\site-packages\\pandas\\core\\indexing.py:1817: SettingWithCopyWarning: \n",
      "A value is trying to be set on a copy of a slice from a DataFrame.\n",
      "Try using .loc[row_indexer,col_indexer] = value instead\n",
      "\n",
      "See the caveats in the documentation: https://pandas.pydata.org/pandas-docs/stable/user_guide/indexing.html#returning-a-view-versus-a-copy\n",
      "  self._setitem_single_column(loc, value, pi)\n"
     ]
    }
   ],
   "source": [
    "feas = ['TI', 'Y', 'NB', 'LA', 'CE', 'CE*', 'PR', 'ND', 'SM', 'EU', 'EU*', 'GD', 'TB', 'DY',\n",
    "       'HO', 'ER', 'TM', 'YB', 'LU', 'HF', 'TA', 'TH', 'U']\n",
    "for fea in feas:\n",
    "    train_data['{}_isnull'.format(fea)] = 0\n",
    "    valid['{}_isnull'.format(fea)] = 0\n",
    "    train_data.loc[train_data[fea].isnull(), '{}_isnull'.format(fea)] =1\n",
    "    valid.loc[valid[fea].isnull(), '{}_isnull'.format(fea)] =1"
   ]
  },
  {
   "cell_type": "code",
   "execution_count": 90,
   "metadata": {},
   "outputs": [],
   "source": [
    "train_data = train_data.fillna(-99)\n",
    "valid = valid.fillna(-99)"
   ]
  },
  {
   "cell_type": "code",
   "execution_count": 91,
   "metadata": {},
   "outputs": [],
   "source": [
    "X_train, X_test = train_test_split(train_data, test_size=0.3, random_state=42)\n",
    "#X_train.to_excel('../res/training_set.xlsx', index=True)\n",
    "#X_test.to_excel('../res/test_set.xlsx', index=True)"
   ]
  },
  {
   "cell_type": "code",
   "execution_count": 92,
   "metadata": {},
   "outputs": [],
   "source": [
    "feas_expode = []\n",
    "for i in range(len(feas)-1):\n",
    "    for j in range(i,len(feas)):\n",
    "        for data in [train_data,valid]:\n",
    "            data['{}+{}'.format(feas[i],feas[j])] = data[feas[i]]+data[feas[j]]\n",
    "            data['{}-{}'.format(feas[i],feas[j])] = data[feas[i]]-data[feas[j]]\n",
    "            data['{}*{}'.format(feas[i],feas[j])] = data[feas[i]]*data[feas[j]]\n",
    "            data['{}/{}'.format(feas[i],feas[j])] = data[feas[i]]/(data[feas[j]]+1e-10)\n",
    "#           data['{}^{}'.format(feas[i],feas[j])] = data[feas[i]]**(train_data[feas[j]]+1e-10)"
   ]
  },
  {
   "cell_type": "code",
   "execution_count": 93,
   "metadata": {
    "scrolled": true
   },
   "outputs": [
    {
     "name": "stderr",
     "output_type": "stream",
     "text": [
      "D:\\anaconda3\\lib\\site-packages\\ipykernel_launcher.py:1: TqdmDeprecationWarning: This function will be removed in tqdm==5.0.0\n",
      "Please use `tqdm.notebook.tqdm` instead of `tqdm.tqdm_notebook`\n",
      "  \"\"\"Entry point for launching an IPython kernel.\n"
     ]
    },
    {
     "data": {
      "application/vnd.jupyter.widget-view+json": {
       "model_id": "51e08f8b06cb47e7a6a005678a4e19db",
       "version_major": 2,
       "version_minor": 0
      },
      "text/plain": [
       "  0%|          | 0/21 [00:00<?, ?it/s]"
      ]
     },
     "metadata": {},
     "output_type": "display_data"
    }
   ],
   "source": [
    "for i in tqdm(range(len(feas)-2)):\n",
    "    for j in range(i,len(feas)-1):\n",
    "        for k in range(j,len(feas)):\n",
    "            for data in [train_data,valid]:\n",
    "                data['{}+{}+{}'.format(feas[i],feas[j],feas[k])] = data[feas[i]]+data[feas[j]]+data[feas[k]]\n",
    "                data['{}-{}-{}'.format(feas[i],feas[j],feas[k])] = data[feas[i]]-data[feas[j]]-data[feas[k]]\n",
    "                data['{}*{}*{}'.format(feas[i],feas[j],feas[k])] = data[feas[i]]*data[feas[j]]*data[feas[k]]\n",
    "                data['{}/{}/{}'.format(feas[i],feas[j],feas[k])] = data[feas[i]]/(data[feas[j]]+1e-10)/(data[feas[k]]+1e-10)"
   ]
  },
  {
   "cell_type": "code",
   "execution_count": 115,
   "metadata": {},
   "outputs": [],
   "source": [
    "train, test = train_test_split(train_data, test_size=0.3, random_state=42)"
   ]
  },
  {
   "cell_type": "code",
   "execution_count": null,
   "metadata": {},
   "outputs": [],
   "source": []
  },
  {
   "cell_type": "code",
   "execution_count": 180,
   "metadata": {},
   "outputs": [],
   "source": [
    "params = {\n",
    "    'learning_rate': 0.01,\n",
    "    'min_child_samples': 5,\n",
    "#     'num_leaves': 63,\n",
    "    'max_depth': 7,\n",
    "    'lambda_l1': 0.5,\n",
    "    'boosting': 'gbdt',\n",
    "    'objective': 'multiclass',\n",
    "    'n_estimators': 2000,\n",
    "    'metric': 'multi_error',\n",
    "    'num_class': 6,\n",
    "    'feature_fraction': .75,\n",
    "    'bagging_fraction': .85,\n",
    "    'seed': 1,\n",
    "    'is_unbalance':True,\n",
    "#     'num_threads': 20,\n",
    "#     'verbose': -1\n",
    "}"
   ]
  },
  {
   "cell_type": "code",
   "execution_count": 181,
   "metadata": {},
   "outputs": [],
   "source": [
    "from sklearn.metrics import classification_report, f1_score\n",
    "from sklearn.model_selection import StratifiedKFold\n",
    "from sklearn.metrics import f1_score,confusion_matrix,classification_report\n",
    "eval_fun = f1_score\n",
    "def run_oof(clf, feas_all, feas_cat, X_train, y_train, X_test, kf):\n",
    "#     print(clf)\n",
    "    \n",
    "    model_lst = []\n",
    "    df_impt = pd.DataFrame()\n",
    "    preds_train = np.zeros((len(X_train), 3), dtype = np.float)\n",
    "    preds_test = np.zeros((len(X_test), 3), dtype = np.float)\n",
    "    train_loss = []; test_loss = []\n",
    "\n",
    "    i = 1\n",
    "    for train_index, test_index in kf.split(X_train, y_train):\n",
    "        x_tr = X_train[train_index]; x_te = X_train[test_index]\n",
    "        y_tr = y_train[train_index]; y_te = y_train[test_index]\n",
    "        model = clf.fit(x_tr, y_tr, eval_set = [(x_te, y_te)],\n",
    "                        categorical_feature=feas_cat,\n",
    "                        early_stopping_rounds = 500, verbose = 200)\n",
    "        \n",
    "        train_loss.append(eval_fun(y_tr, np.argmax(model.predict_proba(x_tr)[:], 1), average='macro'))\n",
    "        test_loss.append(eval_fun(y_te, np.argmax(model.predict_proba(x_te)[:], 1), average='macro'))\n",
    "\n",
    "        preds_train[test_index] = model.predict_proba(x_te)[:]\n",
    "        preds_test += model.predict_proba(X_test)[:]\n",
    "        \n",
    "        df_impt_ = pd.DataFrame()\n",
    "        df_impt_['fea'] = feas_all\n",
    "        df_impt_['impt'] = model.feature_importances_\n",
    "        df_impt_['fold'] = i\n",
    "        \n",
    "        df_impt = pd.concat([df_impt,df_impt_], axis=0)\n",
    "        \n",
    "        print('{0}: Train {1:0.7f} Val {2:0.7f}/{3:0.7f}'.format(i, train_loss[-1], test_loss[-1], np.mean(test_loss)))\n",
    "        print('-' * 50)\n",
    "        i += 1\n",
    "        model_lst.append(model)\n",
    "        \n",
    "    df_impt = df_impt.groupby(['fea'])['impt'].mean().reset_index()\n",
    "    print('Val_f1: ', test_loss)\n",
    "    print('Val_f1_mean: ', np.mean(test_loss))\n",
    "    print('Val_std: ', np.std(test_loss))\n",
    "    print('-' * 50)\n",
    "    preds_test /= n_fold\n",
    "    return preds_train, preds_test, df_impt, test_loss,model_lst"
   ]
  },
  {
   "cell_type": "code",
   "execution_count": 182,
   "metadata": {},
   "outputs": [],
   "source": [
    "y = train['label2']-1\n",
    "y_test = test['label2']-1\n",
    "cat_cols = []"
   ]
  },
  {
   "cell_type": "code",
   "execution_count": 183,
   "metadata": {
    "scrolled": true
   },
   "outputs": [
    {
     "name": "stderr",
     "output_type": "stream",
     "text": [
      "D:\\anaconda3\\lib\\site-packages\\lightgbm\\basic.py:1551: UserWarning: Using categorical_feature in Dataset.\n",
      "  warnings.warn('Using categorical_feature in Dataset.')\n",
      "D:\\anaconda3\\lib\\site-packages\\lightgbm\\basic.py:1555: UserWarning: categorical_feature in Dataset is overridden.\n",
      "New categorical_feature is []\n",
      "  'New categorical_feature is {}'.format(sorted(list(categorical_feature))))\n"
     ]
    },
    {
     "name": "stdout",
     "output_type": "stream",
     "text": [
      "[LightGBM] [Warning] boosting is set=gbdt, boosting_type=gbdt will be ignored. Current value: boosting=gbdt\n",
      "[LightGBM] [Warning] feature_fraction is set=0.75, colsample_bytree=1.0 will be ignored. Current value: feature_fraction=0.75\n",
      "[LightGBM] [Warning] lambda_l1 is set=0.5, reg_alpha=0.0 will be ignored. Current value: lambda_l1=0.5\n",
      "[LightGBM] [Warning] bagging_fraction is set=0.85, subsample=1.0 will be ignored. Current value: bagging_fraction=0.85\n",
      "[LightGBM] [Warning] Accuracy may be bad since you didn't explicitly set num_leaves OR 2^max_depth > num_leaves. (num_leaves=31).\n",
      "Training until validation scores don't improve for 500 rounds\n",
      "[200]\tvalid_0's multi_error: 0.0180505\n",
      "[400]\tvalid_0's multi_error: 0.0144404\n",
      "[600]\tvalid_0's multi_error: 0.0144404\n",
      "Early stopping, best iteration is:\n",
      "[228]\tvalid_0's multi_error: 0.0144404\n",
      "1: Train 1.0000000 Val 0.9618820/0.9618820\n",
      "--------------------------------------------------\n",
      "[LightGBM] [Warning] boosting is set=gbdt, boosting_type=gbdt will be ignored. Current value: boosting=gbdt\n",
      "[LightGBM] [Warning] feature_fraction is set=0.75, colsample_bytree=1.0 will be ignored. Current value: feature_fraction=0.75\n",
      "[LightGBM] [Warning] lambda_l1 is set=0.5, reg_alpha=0.0 will be ignored. Current value: lambda_l1=0.5\n",
      "[LightGBM] [Warning] bagging_fraction is set=0.85, subsample=1.0 will be ignored. Current value: bagging_fraction=0.85\n",
      "[LightGBM] [Warning] Accuracy may be bad since you didn't explicitly set num_leaves OR 2^max_depth > num_leaves. (num_leaves=31).\n",
      "Training until validation scores don't improve for 500 rounds\n"
     ]
    },
    {
     "name": "stderr",
     "output_type": "stream",
     "text": [
      "D:\\anaconda3\\lib\\site-packages\\lightgbm\\basic.py:1551: UserWarning: Using categorical_feature in Dataset.\n",
      "  warnings.warn('Using categorical_feature in Dataset.')\n",
      "D:\\anaconda3\\lib\\site-packages\\lightgbm\\basic.py:1555: UserWarning: categorical_feature in Dataset is overridden.\n",
      "New categorical_feature is []\n",
      "  'New categorical_feature is {}'.format(sorted(list(categorical_feature))))\n"
     ]
    },
    {
     "name": "stdout",
     "output_type": "stream",
     "text": [
      "[200]\tvalid_0's multi_error: 0.0541516\n",
      "[400]\tvalid_0's multi_error: 0.0541516\n",
      "[600]\tvalid_0's multi_error: 0.0541516\n",
      "Early stopping, best iteration is:\n",
      "[151]\tvalid_0's multi_error: 0.0505415\n",
      "2: Train 0.9978128 Val 0.8537790/0.9078305\n",
      "--------------------------------------------------\n",
      "[LightGBM] [Warning] boosting is set=gbdt, boosting_type=gbdt will be ignored. Current value: boosting=gbdt\n",
      "[LightGBM] [Warning] feature_fraction is set=0.75, colsample_bytree=1.0 will be ignored. Current value: feature_fraction=0.75\n",
      "[LightGBM] [Warning] lambda_l1 is set=0.5, reg_alpha=0.0 will be ignored. Current value: lambda_l1=0.5\n",
      "[LightGBM] [Warning] bagging_fraction is set=0.85, subsample=1.0 will be ignored. Current value: bagging_fraction=0.85\n",
      "[LightGBM] [Warning] Accuracy may be bad since you didn't explicitly set num_leaves OR 2^max_depth > num_leaves. (num_leaves=31).\n",
      "Training until validation scores don't improve for 500 rounds\n"
     ]
    },
    {
     "name": "stderr",
     "output_type": "stream",
     "text": [
      "D:\\anaconda3\\lib\\site-packages\\lightgbm\\basic.py:1551: UserWarning: Using categorical_feature in Dataset.\n",
      "  warnings.warn('Using categorical_feature in Dataset.')\n",
      "D:\\anaconda3\\lib\\site-packages\\lightgbm\\basic.py:1555: UserWarning: categorical_feature in Dataset is overridden.\n",
      "New categorical_feature is []\n",
      "  'New categorical_feature is {}'.format(sorted(list(categorical_feature))))\n"
     ]
    },
    {
     "name": "stdout",
     "output_type": "stream",
     "text": [
      "[200]\tvalid_0's multi_error: 0.0505415\n",
      "[400]\tvalid_0's multi_error: 0.032491\n",
      "[600]\tvalid_0's multi_error: 0.0288809\n",
      "[800]\tvalid_0's multi_error: 0.0288809\n",
      "Early stopping, best iteration is:\n",
      "[477]\tvalid_0's multi_error: 0.0288809\n",
      "3: Train 1.0000000 Val 0.9351758/0.9169456\n",
      "--------------------------------------------------\n",
      "[LightGBM] [Warning] boosting is set=gbdt, boosting_type=gbdt will be ignored. Current value: boosting=gbdt\n",
      "[LightGBM] [Warning] feature_fraction is set=0.75, colsample_bytree=1.0 will be ignored. Current value: feature_fraction=0.75\n",
      "[LightGBM] [Warning] lambda_l1 is set=0.5, reg_alpha=0.0 will be ignored. Current value: lambda_l1=0.5\n",
      "[LightGBM] [Warning] bagging_fraction is set=0.85, subsample=1.0 will be ignored. Current value: bagging_fraction=0.85\n",
      "[LightGBM] [Warning] Accuracy may be bad since you didn't explicitly set num_leaves OR 2^max_depth > num_leaves. (num_leaves=31).\n",
      "Training until validation scores don't improve for 500 rounds\n"
     ]
    },
    {
     "name": "stderr",
     "output_type": "stream",
     "text": [
      "D:\\anaconda3\\lib\\site-packages\\lightgbm\\basic.py:1551: UserWarning: Using categorical_feature in Dataset.\n",
      "  warnings.warn('Using categorical_feature in Dataset.')\n",
      "D:\\anaconda3\\lib\\site-packages\\lightgbm\\basic.py:1555: UserWarning: categorical_feature in Dataset is overridden.\n",
      "New categorical_feature is []\n",
      "  'New categorical_feature is {}'.format(sorted(list(categorical_feature))))\n"
     ]
    },
    {
     "name": "stdout",
     "output_type": "stream",
     "text": [
      "[200]\tvalid_0's multi_error: 0.0326087\n",
      "[400]\tvalid_0's multi_error: 0.0326087\n",
      "[600]\tvalid_0's multi_error: 0.0326087\n",
      "Early stopping, best iteration is:\n",
      "[267]\tvalid_0's multi_error: 0.0289855\n",
      "4: Train 1.0000000 Val 0.9303917/0.9203071\n",
      "--------------------------------------------------\n",
      "[LightGBM] [Warning] boosting is set=gbdt, boosting_type=gbdt will be ignored. Current value: boosting=gbdt\n",
      "[LightGBM] [Warning] feature_fraction is set=0.75, colsample_bytree=1.0 will be ignored. Current value: feature_fraction=0.75\n",
      "[LightGBM] [Warning] lambda_l1 is set=0.5, reg_alpha=0.0 will be ignored. Current value: lambda_l1=0.5\n",
      "[LightGBM] [Warning] bagging_fraction is set=0.85, subsample=1.0 will be ignored. Current value: bagging_fraction=0.85\n",
      "[LightGBM] [Warning] Accuracy may be bad since you didn't explicitly set num_leaves OR 2^max_depth > num_leaves. (num_leaves=31).\n",
      "Training until validation scores don't improve for 500 rounds\n"
     ]
    },
    {
     "name": "stderr",
     "output_type": "stream",
     "text": [
      "D:\\anaconda3\\lib\\site-packages\\lightgbm\\basic.py:1551: UserWarning: Using categorical_feature in Dataset.\n",
      "  warnings.warn('Using categorical_feature in Dataset.')\n",
      "D:\\anaconda3\\lib\\site-packages\\lightgbm\\basic.py:1555: UserWarning: categorical_feature in Dataset is overridden.\n",
      "New categorical_feature is []\n",
      "  'New categorical_feature is {}'.format(sorted(list(categorical_feature))))\n"
     ]
    },
    {
     "name": "stdout",
     "output_type": "stream",
     "text": [
      "[200]\tvalid_0's multi_error: 0.0326087\n",
      "[400]\tvalid_0's multi_error: 0.0289855\n",
      "[600]\tvalid_0's multi_error: 0.0326087\n",
      "[800]\tvalid_0's multi_error: 0.0326087\n",
      "Early stopping, best iteration is:\n",
      "[399]\tvalid_0's multi_error: 0.0289855\n",
      "5: Train 1.0000000 Val 0.9327052/0.9227867\n",
      "--------------------------------------------------\n",
      "Val_f1:  [0.9618819776714513, 0.8537790460660416, 0.9351757817130123, 0.9303917285568661, 0.9327052045545526]\n",
      "Val_f1_mean:  0.9227867477123848\n",
      "Val_std:  0.03633235355796976\n",
      "--------------------------------------------------\n"
     ]
    }
   ],
   "source": [
    "cols_flt = ['CE**EU*EU', 'YB/LU', 'NB/LA/CE*', 'TM/YB', 'Y/LA/TB', 'ER/YB', 'TH/U', 'EU**EU**TA', 'ER/TM', 'PR/ND/EU*', 'LU/TH', 'HO-LU', 'TI*TI*CE', 'TB/DY', 'TH-U', 'DY/HO', 'TA/U', 'Y/CE*/TH', 'NB*EU**U', 'Y/CE*/EU', 'TI*TI*DY', 'Y/DY/HF', 'HF-U', 'ND-EU-EU', 'TI*EU**U', 'CE**ND*HF', 'NB/LU/TA', 'EU/GD', 'Y*HF*TA', 'Y/CE/EU*', 'Y/YB/TH', 'YB/LU/HF', 'CE-ND-TA', 'PR/ND/TA', 'SM/GD', 'TI/NB/EU*', 'GD/TB', 'CE/U', 'Y/NB', 'Y*EU**HF', 'TI*TI*U', 'HO/ER', 'LA+EU*+TA', 'CE/DY/U', 'CE/EU/TA', 'TI*TI*TA', 'TI/EU*/HF', 'TI*Y*TA', 'CE/HF/HF', 'CE/GD', 'TI*EU*HF', 'CE/HF/TH', 'CE/GD/HF', 'CE/EU*/TH', 'TI*Y*EU*', 'TI*HF*HF', 'EU**HF*TA', 'HF-TH-U', 'EU/GD/HF', 'YB/LU/TA', 'CE/EU*', 'NB/CE/CE', 'Y/CE/U', 'CE/DY/DY', 'Y/TH', 'PR/EU/TA', 'CE/EU*/EU*', 'EU**HF*HF', 'Y/TM', 'Y/HO', 'Y/NB/EU*', 'NB/HF/U', 'ER-LU-LU', 'HO-LU-TA', 'TI*NB*TA', 'Y/EU*/U', 'Y/ER', 'Y/NB/ER', 'TI/EU*/TA', 'HO/TM', 'CE/TA/TH', 'TM/YB/HF', 'TI*HF*TA', 'TB/LU/HF', 'ER/LU', 'Y/DY/TA', 'DY-LU-LU', 'CE/EU/TH', 'ER/TM/HF', 'TA*U', 'TM/LU', 'NB/HF/TH', 'CE*EU**HF', 'Y*CE*EU*', 'Y/NB/YB', 'ND-EU-EU*', 'NB/TH/U', 'CE/TA/U', 'Y/SM', 'TI/HF/HF', 'Y/YB', 'TI/HF', 'EU*/TA/TA', 'CE/EU/HF', 'DY-LU-TA', 'CE/SM/HF', 'DY/LU', 'ER/YB/HF', 'Y/DY', 'Y/NB/CE', 'SM/EU/TA', 'CE/EU/EU*', 'CE/EU*/U', 'NB/HF/TA', 'NB/TA', 'TB/DY/HF', 'NB-TA-TA', 'SM/GD/HF', 'EU/EU*/GD', 'CE/TH']\n",
    "y_train = y.values\n",
    "X_test = test[cols_flt].values\n",
    "\n",
    "n_fold = 5\n",
    "seed = 42\n",
    "skf = StratifiedKFold(n_splits = n_fold, shuffle = True, random_state=seed)\n",
    "train_pred, test_pred, df_impt, test_loss, model_lst = run_oof(lgb.LGBMClassifier(**params), \n",
    "                                cols_flt,\n",
    "                                [],\n",
    "                                X_train, \n",
    "                                y_train, \n",
    "                                X_test, \n",
    "                                skf,\n",
    "                               )"
   ]
  },
  {
   "cell_type": "code",
   "execution_count": 184,
   "metadata": {},
   "outputs": [],
   "source": [
    "X_valid = valid[cols_flt].values\n",
    "preds_valid = np.zeros((len(X_valid), 3), dtype = np.float)\n",
    "for i in range(5):\n",
    "    preds_valid += model_lst[i].predict_proba(X_valid)[:]"
   ]
  },
  {
   "cell_type": "code",
   "execution_count": null,
   "metadata": {},
   "outputs": [],
   "source": []
  },
  {
   "cell_type": "code",
   "execution_count": 186,
   "metadata": {},
   "outputs": [],
   "source": [
    "import numpy as np\n",
    "import matplotlib.pyplot as plt\n",
    "from matplotlib import rcParams"
   ]
  },
  {
   "cell_type": "code",
   "execution_count": 242,
   "metadata": {},
   "outputs": [],
   "source": [
    "import itertools\n",
    "import matplotlib.pyplot as plt\n",
    "import numpy as np\n",
    "# 绘制混淆矩阵\n",
    "def plot_confusion_matrix(cm, classes, normalize=False, title='Confusion matrix', cmap=plt.cm.Blues):\n",
    "    \"\"\"\n",
    "    - cm : 计算出的混淆矩阵的值\n",
    "    - classes : 混淆矩阵中每一行每一列对应的列\n",
    "    - normalize : True:显示百分比, False:显示个数\n",
    "    \"\"\"\n",
    "    if normalize:\n",
    "        cm = cm.astype('float') / cm.sum(axis=1)[:, np.newaxis]\n",
    "        print(\"显示百分比：\")\n",
    "        np.set_printoptions(formatter={'float': '{: 0.2f}'.format})\n",
    "        print(cm)\n",
    "    else:\n",
    "        print('显示具体数字：')\n",
    "        print(cm)\n",
    "    plt.imshow(cm, interpolation='nearest', cmap=cmap)\n",
    "    plt.title(title ,fontsize=15)\n",
    "    plt.colorbar()\n",
    "    tick_marks = np.arange(len(classes))\n",
    "    plt.xticks(tick_marks, classes, rotation=45 ,fontsize=10)\n",
    "    plt.yticks(tick_marks, classes ,fontsize=10)\n",
    "    # matplotlib版本问题，如果不加下面这行代码，则绘制的混淆矩阵上下只能显示一半，有的版本的matplotlib不需要下面的代码，分别试一下即可\n",
    "    plt.ylim(len(classes) - 0.5, -0.5)\n",
    "    fmt = '.2f' if normalize else 'd'\n",
    "    thresh = cm.max() / 2.\n",
    "    for i, j in itertools.product(range(cm.shape[0]), range(cm.shape[1])):\n",
    "        plt.text(j, i, format(cm[i, j], fmt),\n",
    "                 horizontalalignment=\"center\",\n",
    "                 color=\"white\" if cm[i, j] > thresh else \"black\" ,fontsize=15)\n",
    "    plt.tight_layout()\n",
    "    plt.ylabel('True label',fontsize=15)\n",
    "    plt.xlabel('Predicted label',fontsize=15)\n",
    "    plt.show()"
   ]
  },
  {
   "cell_type": "code",
   "execution_count": 246,
   "metadata": {},
   "outputs": [
    {
     "name": "stdout",
     "output_type": "stream",
     "text": [
      "####################\n",
      "train-f1: 0.9247995277215862\n",
      "train-混淆矩阵\n",
      "              precision    recall  f1-score   support\n",
      "\n",
      "           0       0.88      0.74      0.80       105\n",
      "           1       0.99      0.99      0.99       189\n",
      "           2       0.97      0.99      0.98      1089\n",
      "\n",
      "    accuracy                           0.97      1383\n",
      "   macro avg       0.95      0.91      0.92      1383\n",
      "weighted avg       0.97      0.97      0.97      1383\n",
      "\n",
      "####################\n",
      "test-f1: 0.9304484756865709\n",
      "test-混淆矩阵\n",
      "              precision    recall  f1-score   support\n",
      "\n",
      "           0       0.94      0.72      0.81        46\n",
      "           1       1.00      0.99      0.99        74\n",
      "           2       0.97      1.00      0.98       474\n",
      "\n",
      "    accuracy                           0.97       594\n",
      "   macro avg       0.97      0.90      0.93       594\n",
      "weighted avg       0.97      0.97      0.97       594\n",
      "\n"
     ]
    }
   ],
   "source": [
    "print('#'*20)\n",
    "print('train-f1:', eval_fun(y_train, np.argmax(train_pred, 1), average='macro'))\n",
    "print('train-混淆矩阵')\n",
    "print(classification_report(y_train, np.argmax(train_pred, 1)) )\n",
    "print('#'*20)\n",
    "print('test-f1:', eval_fun(y_test, np.argmax(test_pred, 1), average='macro'))\n",
    "print('test-混淆矩阵')\n",
    "print(classification_report(y_test, np.argmax(test_pred, 1)) )"
   ]
  },
  {
   "cell_type": "code",
   "execution_count": 266,
   "metadata": {},
   "outputs": [
    {
     "name": "stdout",
     "output_type": "stream",
     "text": [
      "####################\n",
      "train-混淆矩阵\n",
      "显示百分比：\n",
      "[[ 0.74  0.00  0.26]\n",
      " [ 0.00  0.99  0.01]\n",
      " [ 0.01  0.00  0.99]]\n"
     ]
    },
    {
     "data": {
      "image/png": "[encoded data removed]",
      "text/plain": [
       "<Figure size 432x288 with 2 Axes>"
      ]
     },
     "metadata": {
      "needs_background": "light"
     },
     "output_type": "display_data"
    },
    {
     "name": "stdout",
     "output_type": "stream",
     "text": [
      "####################\n",
      "test-混淆矩阵\n",
      "显示百分比：\n",
      "[[ 0.72  0.00  0.28]\n",
      " [ 0.00  0.99  0.01]\n",
      " [ 0.00  0.00  1.00]]\n"
     ]
    },
    {
     "data": {
      "image/png": "[encoded data removed]",
      "text/plain": [
       "<Figure size 432x288 with 2 Axes>"
      ]
     },
     "metadata": {
      "needs_background": "light"
     },
     "output_type": "display_data"
    }
   ],
   "source": [
    "print('#'*20)\n",
    "print('train-混淆矩阵')\n",
    "cm = confusion_matrix(y_train, np.argmax(train_pred, 1))\n",
    "plot_confusion_matrix(cm, classes=['1','2','3'], normalize=True, title='Normalized confusion matrix')\n",
    "\n",
    "print('#'*20)\n",
    "print('test-混淆矩阵')\n",
    "cm = confusion_matrix(y_test, np.argmax(test_pred, 1))\n",
    "plot_confusion_matrix(cm, classes=['1','2','3'], normalize=True, title='Normalized confusion matrix')"
   ]
  },
  {
   "cell_type": "code",
   "execution_count": null,
   "metadata": {},
   "outputs": [],
   "source": []
  },
  {
   "cell_type": "code",
   "execution_count": 270,
   "metadata": {},
   "outputs": [],
   "source": [
    "train['pred_stage2'] = np.argmax(train_pred, 1)+1\n",
    "test['pred_stage2'] = np.argmax(test_pred, 1)+1"
   ]
  },
  {
   "cell_type": "code",
   "execution_count": 271,
   "metadata": {
    "scrolled": true
   },
   "outputs": [],
   "source": [
    "valid_pred = np.argmax(preds_valid, 1)\n",
    "valid['pred_stage2'] = valid_pred+1"
   ]
  },
  {
   "cell_type": "code",
   "execution_count": null,
   "metadata": {},
   "outputs": [],
   "source": []
  },
  {
   "cell_type": "code",
   "execution_count": 274,
   "metadata": {},
   "outputs": [],
   "source": [
    "cols_output = features_slc + ['label2','pred_stage2']\n",
    "train[cols_output].to_excel('../res_stage2/train.xlsx', index=False)\n",
    "test[cols_output].to_excel('../res_stage2/test.xlsx', index=False)\n",
    "\n",
    "valid[[f for f in cols_output if f not in ['label2']]].to_excel('../res_stage2/valid.xlsx', index=False)\n",
    "\n",
    "df_feature_importance.sort_values(by='gain', ascending=False).to_excel('../res/feature importance.xlsx', index=False)"
   ]
  },
  {
   "cell_type": "code",
   "execution_count": 275,
   "metadata": {},
   "outputs": [
    {
     "name": "stdout",
     "output_type": "stream",
     "text": [
      "####################\n",
      "feature importance：\n",
      "     features   gain\n",
      "8       ER/TM  240.8\n",
      "3       TM/YB  230.8\n",
      "1       YB/LU  223.6\n",
      "6        TH/U  198.8\n",
      "0   CE**EU*EU  195.2\n",
      "35  TI/NB/EU*  193.8\n",
      "5       ER/YB  191.6\n",
      "4     Y/LA/TB  175.2\n",
      "31   YB/LU/HF  175.0\n",
      "17   Y/CE*/TH  174.4\n"
     ]
    }
   ],
   "source": [
    "print('#'*20)\n",
    "print('feature importance：')\n",
    "print(df_feature_importance.sort_values(by='gain', ascending=False).head(10))"
   ]
  },
  {
   "cell_type": "code",
   "execution_count": null,
   "metadata": {},
   "outputs": [],
   "source": []
  },
  {
   "cell_type": "code",
   "execution_count": null,
   "metadata": {},
   "outputs": [],
   "source": []
  }
 ],
 "metadata": {
  "kernelspec": {
   "display_name": "Python 3",
   "language": "python",
   "name": "python3"
  },
  "language_info": {
   "codemirror_mode": {
    "name": "ipython",
    "version": 3
   },
   "file_extension": ".py",
   "mimetype": "text/x-python",
   "name": "python",
   "nbconvert_exporter": "python",
   "pygments_lexer": "ipython3",
   "version": "3.7.6"
  }
 },
 "nbformat": 4,
 "nbformat_minor": 4
}
